{
  "metadata": {
    "kernelspec": {
      "name": "python3",
      "display_name": "Python 3"
    },
    "language_info": {
      "name": "python",
      "version": "3.10.12",
      "mimetype": "text/x-python",
      "codemirror_mode": {
        "name": "ipython",
        "version": 3
      },
      "pygments_lexer": "ipython3",
      "nbconvert_exporter": "python",
      "file_extension": ".py"
    },
    "kaggle": {
      "accelerator": "gpu",
      "dataSources": [
        {
          "sourceId": 11426118,
          "sourceType": "datasetVersion",
          "datasetId": 7156180
        }
      ],
      "dockerImageVersionId": 30919,
      "isInternetEnabled": false,
      "language": "python",
      "sourceType": "notebook",
      "isGpuEnabled": true
    },
    "colab": {
      "provenance": [],
      "gpuType": "T4"
    },
    "accelerator": "GPU"
  },
  "nbformat_minor": 5,
  "nbformat": 4,
  "cells": [
    {
      "cell_type": "code",
      "source": [
        "# %pip install onnx"
      ],
      "metadata": {
        "id": "9ti_OASkNgG3"
      },
      "id": "9ti_OASkNgG3",
      "execution_count": 324,
      "outputs": []
    },
    {
      "id": "d80b250f",
      "cell_type": "code",
      "source": [
        "import torch\n",
        "from torch.utils.data import DataLoader\n",
        "from torch import nn, optim\n",
        "import torch.nn.functional as F\n",
        "import torchvision\n",
        "from torchvision import datasets, transforms\n",
        "\n",
        "import cv2\n",
        "import numpy as np\n",
        "from matplotlib import pyplot as plt\n",
        "from sklearn.metrics import classification_report\n",
        "from pathlib import Path\n",
        "\n",
        "from time import time\n",
        "from tqdm import tqdm"
      ],
      "metadata": {
        "trusted": true,
        "execution": {
          "iopub.status.busy": "2025-04-16T22:56:02.390775Z",
          "iopub.execute_input": "2025-04-16T22:56:02.391054Z",
          "iopub.status.idle": "2025-04-16T22:56:08.134121Z",
          "shell.execute_reply.started": "2025-04-16T22:56:02.391031Z",
          "shell.execute_reply": "2025-04-16T22:56:08.133437Z"
        },
        "id": "d80b250f"
      },
      "outputs": [],
      "execution_count": 325
    },
    {
      "cell_type": "markdown",
      "source": [
        "# Download dataset"
      ],
      "metadata": {
        "id": "EeMTe0CEexSn"
      },
      "id": "EeMTe0CEexSn"
    },
    {
      "cell_type": "code",
      "source": [
        "from google.colab import drive\n",
        "drive.mount('/content/drive', force_remount=True)"
      ],
      "metadata": {
        "colab": {
          "base_uri": "https://localhost:8080/"
        },
        "id": "Ctlsb5EvX1oI",
        "outputId": "f9c9be5b-f2b1-4b3d-fb95-15c8d4c079ef"
      },
      "id": "Ctlsb5EvX1oI",
      "execution_count": 326,
      "outputs": [
        {
          "output_type": "stream",
          "name": "stdout",
          "text": [
            "Mounted at /content/drive\n"
          ]
        }
      ]
    },
    {
      "id": "d9575791",
      "cell_type": "code",
      "source": [
        "global_path = Path('/content/drive/MyDrive/Mag_course/CV_lab2')\n",
        "save_path = global_path / \"weights\""
      ],
      "metadata": {
        "trusted": true,
        "execution": {
          "iopub.status.busy": "2025-04-16T22:56:08.135192Z",
          "iopub.execute_input": "2025-04-16T22:56:08.135492Z",
          "iopub.status.idle": "2025-04-16T22:56:08.138639Z",
          "shell.execute_reply.started": "2025-04-16T22:56:08.135463Z",
          "shell.execute_reply": "2025-04-16T22:56:08.138028Z"
        },
        "id": "d9575791"
      },
      "outputs": [],
      "execution_count": 327
    },
    {
      "id": "c98050fb",
      "cell_type": "code",
      "source": [
        "transform = transforms.Compose([transforms.ToTensor(), transforms.Normalize((0.5,), (0.5,))])"
      ],
      "metadata": {
        "trusted": true,
        "execution": {
          "iopub.status.busy": "2025-04-16T22:56:08.140204Z",
          "iopub.execute_input": "2025-04-16T22:56:08.140397Z",
          "iopub.status.idle": "2025-04-16T22:56:08.156116Z",
          "shell.execute_reply.started": "2025-04-16T22:56:08.140380Z",
          "shell.execute_reply": "2025-04-16T22:56:08.155406Z"
        },
        "id": "c98050fb"
      },
      "outputs": [],
      "execution_count": 328
    },
    {
      "id": "2d91c9b9",
      "cell_type": "code",
      "source": [
        "trainset = datasets.MNIST(global_path, download=True, train=True, transform=transform)\n",
        "testset = datasets.MNIST(global_path, download=True, train=False, transform=transform)"
      ],
      "metadata": {
        "trusted": true,
        "execution": {
          "iopub.status.busy": "2025-04-16T22:56:08.157107Z",
          "iopub.execute_input": "2025-04-16T22:56:08.157335Z"
        },
        "id": "2d91c9b9"
      },
      "outputs": [],
      "execution_count": 329
    },
    {
      "id": "07437ed0",
      "cell_type": "code",
      "source": [
        "trainloader = torch.utils.data.DataLoader(trainset, batch_size=64, shuffle=True)\n",
        "testloader = torch.utils.data.DataLoader(testset, batch_size=64, shuffle=True)"
      ],
      "metadata": {
        "trusted": true,
        "id": "07437ed0"
      },
      "outputs": [],
      "execution_count": 330
    },
    {
      "cell_type": "markdown",
      "source": [
        "# Train loop"
      ],
      "metadata": {
        "id": "TutpL8Omgv0H"
      },
      "id": "TutpL8Omgv0H"
    },
    {
      "cell_type": "code",
      "source": [
        "def train_model(model_, trainloader_, testloader_, criterion_, optimizer_, epochs):\n",
        "\n",
        "  time0 = time()\n",
        "  for ep in tqdm(range(epochs)):\n",
        "      if ep == 0:\n",
        "          print()\n",
        "      running_loss = 0\n",
        "      for i, (images, labels) in enumerate(trainloader_, 0):\n",
        "          optimizer_.zero_grad()\n",
        "          res = model_(images)\n",
        "          loss = criterion_(res, labels)\n",
        "          loss.backward()\n",
        "          optimizer_.step()\n",
        "\n",
        "          running_loss += loss.item()\n",
        "\n",
        "          dbg_samples = 100\n",
        "          if (i + 1) % dbg_samples == 0:\n",
        "              print('[%d, %5d] loss: %.3f' %\n",
        "                    (e+1, i+1, running_loss / dbg_samples))\n",
        "              running_loss = 0.0\n",
        "\n",
        "  print(\"\\nTraining Time (in minutes) =\",(time()-time0)/60)\n",
        "\n",
        "  correct = 0\n",
        "  total = 0\n",
        "  all_labels, all_predicted = [], []\n",
        "  with torch.no_grad():\n",
        "      for data in testloader_:\n",
        "          images, labels = data\n",
        "          outputs = model_(images)\n",
        "          _, predicted = torch.max(outputs.data, 1)\n",
        "          total += labels.size(0)\n",
        "          correct += (predicted == labels).sum().item()\n",
        "\n",
        "          all_labels.extend(labels.cpu().numpy())\n",
        "          all_predicted.extend(predicted.cpu().numpy())\n",
        "\n",
        "  accuracy = 100 * correct / total\n",
        "\n",
        "  return all_labels, all_predicted, accuracy"
      ],
      "metadata": {
        "id": "WpZekmyGe1N_"
      },
      "id": "WpZekmyGe1N_",
      "execution_count": 331,
      "outputs": []
    },
    {
      "cell_type": "markdown",
      "source": [
        "# Base model"
      ],
      "metadata": {
        "id": "HiJbByPSZIcm"
      },
      "id": "HiJbByPSZIcm"
    },
    {
      "id": "481f1bab",
      "cell_type": "code",
      "source": [
        "class Net_Base(nn.Module):\n",
        "    def __init__(self):\n",
        "        super(Net_Base, self).__init__()\n",
        "        self.conv1 = nn.Conv2d(1, 8, 5, padding=2)\n",
        "        self.pool = nn.MaxPool2d(2, 2)\n",
        "        self.conv2 = nn.Conv2d(8, 8, 3, padding=1)\n",
        "        self.fc1 = nn.Linear(8 * 7 * 7, 128)\n",
        "        self.fc2 = nn.Linear(128, 64)\n",
        "        self.fc3 = nn.Linear(64, 10)\n",
        "        self.dropout = nn.Dropout(0.25)\n",
        "\n",
        "\n",
        "    def forward(self, x):\n",
        "        x = F.relu(self.conv1(x))\n",
        "        x = self.pool(x)\n",
        "        x2 = F.relu(self.conv2(x))\n",
        "        x = x + x2\n",
        "        x = self.pool(x)\n",
        "        x = x.view(-1, 8 * 7 * 7)\n",
        "        x = F.relu(self.fc1(x))\n",
        "        x = self.dropout(x)\n",
        "        x = F.relu(self.fc2(x))\n",
        "        x = self.fc3(x)\n",
        "        return x"
      ],
      "metadata": {
        "trusted": true,
        "id": "481f1bab"
      },
      "outputs": [],
      "execution_count": 332
    },
    {
      "cell_type": "code",
      "source": [
        "net = Net_Base()\n",
        "criterion = nn.CrossEntropyLoss()\n",
        "optimizer = optim.SGD(net.parameters(), lr=0.003, momentum=0.9)"
      ],
      "metadata": {
        "id": "p6_aI0KWgGer"
      },
      "id": "p6_aI0KWgGer",
      "execution_count": 333,
      "outputs": []
    },
    {
      "cell_type": "code",
      "source": [
        "all_labels, all_predicted, accuracy = train_model(net, trainloader, testloader, criterion, optimizer, epochs=1)"
      ],
      "metadata": {
        "colab": {
          "base_uri": "https://localhost:8080/"
        },
        "id": "vhWT-XFwgFHi",
        "outputId": "b31c458f-61a1-4059-ce65-2d11e9b49def"
      },
      "id": "vhWT-XFwgFHi",
      "execution_count": 334,
      "outputs": [
        {
          "output_type": "stream",
          "name": "stderr",
          "text": [
            "\r  0%|          | 0/1 [00:00<?, ?it/s]"
          ]
        },
        {
          "output_type": "stream",
          "name": "stdout",
          "text": [
            "\n",
            "[1,   100] loss: 2.273\n",
            "[1,   200] loss: 1.916\n",
            "[1,   300] loss: 0.720\n",
            "[1,   400] loss: 0.387\n",
            "[1,   500] loss: 0.299\n",
            "[1,   600] loss: 0.242\n",
            "[1,   700] loss: 0.199\n",
            "[1,   800] loss: 0.190\n",
            "[1,   900] loss: 0.181\n"
          ]
        },
        {
          "output_type": "stream",
          "name": "stderr",
          "text": [
            "100%|██████████| 1/1 [00:23<00:00, 23.30s/it]\n"
          ]
        },
        {
          "output_type": "stream",
          "name": "stdout",
          "text": [
            "\n",
            "Training Time (in minutes) = 0.38851598898569745\n"
          ]
        }
      ]
    },
    {
      "cell_type": "code",
      "source": [
        "print('Accuracy: %d %%' % (accuracy))\n",
        "\n",
        "print(\"\\nClassification Report:\")\n",
        "print(classification_report(all_labels, all_predicted, digits=4))"
      ],
      "metadata": {
        "colab": {
          "base_uri": "https://localhost:8080/"
        },
        "id": "XIIw_5OBkSMV",
        "outputId": "bb4f8ee0-4006-4072-8479-11fc18a586fb"
      },
      "id": "XIIw_5OBkSMV",
      "execution_count": 335,
      "outputs": [
        {
          "output_type": "stream",
          "name": "stdout",
          "text": [
            "Accuracy: 95 %\n",
            "\n",
            "Classification Report:\n",
            "              precision    recall  f1-score   support\n",
            "\n",
            "           0     0.9782    0.9602    0.9691       980\n",
            "           1     0.9791    0.9885    0.9838      1135\n",
            "           2     0.9492    0.9409    0.9450      1032\n",
            "           3     0.9547    0.9594    0.9570      1010\n",
            "           4     0.9643    0.9633    0.9638       982\n",
            "           5     0.9423    0.9709    0.9564       892\n",
            "           6     0.9533    0.9582    0.9558       958\n",
            "           7     0.9726    0.9309    0.9513      1028\n",
            "           8     0.9318    0.9394    0.9356       974\n",
            "           9     0.9307    0.9455    0.9381      1009\n",
            "\n",
            "    accuracy                         0.9559     10000\n",
            "   macro avg     0.9556    0.9557    0.9556     10000\n",
            "weighted avg     0.9561    0.9559    0.9559     10000\n",
            "\n"
          ]
        }
      ]
    },
    {
      "id": "0e5db3aa",
      "cell_type": "code",
      "source": [
        "x = torch.randn(64, 1, 28,28)\n",
        "torch.onnx.export(net, x, save_path / \"conv_1.onnx\")"
      ],
      "metadata": {
        "trusted": true,
        "id": "0e5db3aa"
      },
      "outputs": [],
      "execution_count": 336
    },
    {
      "cell_type": "markdown",
      "source": [
        "# Depthwise convolutions"
      ],
      "metadata": {
        "id": "ZQG0_KIVY8Vq"
      },
      "id": "ZQG0_KIVY8Vq"
    },
    {
      "id": "d70de03b",
      "cell_type": "code",
      "source": [
        "class Net_Deptwise(nn.Module):\n",
        "    def __init__(self):\n",
        "        super(Net_Deptwise, self).__init__()\n",
        "        self.depthwise1 = nn.Conv2d(1, 1, kernel_size=5, padding=2, groups=1)\n",
        "        self.pointwise1 = nn.Conv2d(1, 8, kernel_size=1)\n",
        "\n",
        "        self.pool = nn.MaxPool2d(2, 2)\n",
        "\n",
        "        self.depthwise2 = nn.Conv2d(8, 8, kernel_size=3, padding=1, groups=8)\n",
        "        self.pointwise2 = nn.Conv2d(8, 8, kernel_size=1)\n",
        "\n",
        "        self.fc1 = nn.Linear(8 * 7 * 7, 128)\n",
        "        self.fc2 = nn.Linear(128, 64)\n",
        "        self.fc3 = nn.Linear(64, 10)\n",
        "        self.dropout = nn.Dropout(0.25)\n",
        "\n",
        "\n",
        "    def forward(self, x):\n",
        "        x = self.depthwise1(x)\n",
        "        x = self.pointwise1(x)\n",
        "        x = F.relu(x)\n",
        "        x = self.pool(x)\n",
        "\n",
        "        x2 = self.depthwise2(x)\n",
        "        x2 = self.pointwise2(x2)\n",
        "        x2 = F.relu(x2)\n",
        "        x = x + x2\n",
        "\n",
        "        x = self.pool(x)\n",
        "        x = x.view(-1, 8 * 7 * 7)\n",
        "        x = F.relu(self.fc1(x))\n",
        "        x = self.dropout(x)\n",
        "        x = F.relu(self.fc2(x))\n",
        "        x = self.fc3(x)\n",
        "        return x"
      ],
      "metadata": {
        "trusted": true,
        "id": "d70de03b"
      },
      "outputs": [],
      "execution_count": 337
    },
    {
      "id": "f6841b16",
      "cell_type": "code",
      "source": [
        "net = Net_Deptwise()\n",
        "criterion = nn.CrossEntropyLoss()\n",
        "optimizer = optim.SGD(net.parameters(), lr=0.003, momentum=0.9)"
      ],
      "metadata": {
        "trusted": true,
        "id": "f6841b16"
      },
      "outputs": [],
      "execution_count": 338
    },
    {
      "cell_type": "code",
      "source": [
        "all_labels, all_predicted, accuracy = train_model(net, trainloader, testloader, criterion, optimizer, epochs=1)"
      ],
      "metadata": {
        "id": "eY57Ywg5ggjp",
        "colab": {
          "base_uri": "https://localhost:8080/"
        },
        "outputId": "bf878280-72d7-4ea3-eeff-d3a84226d8cb"
      },
      "id": "eY57Ywg5ggjp",
      "execution_count": 339,
      "outputs": [
        {
          "output_type": "stream",
          "name": "stderr",
          "text": [
            "\r  0%|          | 0/1 [00:00<?, ?it/s]"
          ]
        },
        {
          "output_type": "stream",
          "name": "stdout",
          "text": [
            "\n",
            "[1,   100] loss: 2.291\n",
            "[1,   200] loss: 2.131\n",
            "[1,   300] loss: 1.173\n",
            "[1,   400] loss: 0.591\n",
            "[1,   500] loss: 0.453\n",
            "[1,   600] loss: 0.354\n",
            "[1,   700] loss: 0.323\n",
            "[1,   800] loss: 0.290\n",
            "[1,   900] loss: 0.259\n"
          ]
        },
        {
          "output_type": "stream",
          "name": "stderr",
          "text": [
            "100%|██████████| 1/1 [00:25<00:00, 25.79s/it]\n"
          ]
        },
        {
          "output_type": "stream",
          "name": "stdout",
          "text": [
            "\n",
            "Training Time (in minutes) = 0.4298717419306437\n"
          ]
        }
      ]
    },
    {
      "cell_type": "code",
      "source": [
        "print('Accuracy: %d %%' % (accuracy))\n",
        "\n",
        "print(\"\\nClassification Report:\")\n",
        "print(classification_report(all_labels, all_predicted, digits=4))"
      ],
      "metadata": {
        "id": "tTi1ABhUkjKz",
        "colab": {
          "base_uri": "https://localhost:8080/"
        },
        "outputId": "47a43e04-ef0a-4e13-a70f-0f712ff08cde"
      },
      "id": "tTi1ABhUkjKz",
      "execution_count": 340,
      "outputs": [
        {
          "output_type": "stream",
          "name": "stdout",
          "text": [
            "Accuracy: 91 %\n",
            "\n",
            "Classification Report:\n",
            "              precision    recall  f1-score   support\n",
            "\n",
            "           0     0.9299    0.9745    0.9517       980\n",
            "           1     0.9576    0.9753    0.9664      1135\n",
            "           2     0.9394    0.9157    0.9274      1032\n",
            "           3     0.9250    0.9406    0.9327      1010\n",
            "           4     0.9622    0.8289    0.8906       982\n",
            "           5     0.9620    0.9070    0.9336       892\n",
            "           6     0.9802    0.8800    0.9274       958\n",
            "           7     0.8257    0.9630    0.8891      1028\n",
            "           8     0.8757    0.9045    0.8899       974\n",
            "           9     0.8188    0.8375    0.8280      1009\n",
            "\n",
            "    accuracy                         0.9139     10000\n",
            "   macro avg     0.9176    0.9127    0.9137     10000\n",
            "weighted avg     0.9172    0.9139    0.9141     10000\n",
            "\n"
          ]
        }
      ]
    },
    {
      "id": "30f6d666",
      "cell_type": "code",
      "source": [
        "x = torch.randn(64, 1, 28,28)\n",
        "torch.onnx.export(net, x, save_path / \"conv_2.onnx\")"
      ],
      "metadata": {
        "trusted": true,
        "id": "30f6d666"
      },
      "outputs": [],
      "execution_count": 341
    },
    {
      "cell_type": "markdown",
      "source": [
        "# Augmentations"
      ],
      "metadata": {
        "id": "ybDtxCF2ZgLu"
      },
      "id": "ybDtxCF2ZgLu"
    },
    {
      "cell_type": "code",
      "source": [
        "train_transform = transforms.Compose([\n",
        "    transforms.RandomAffine(degrees=10, translate=(0.1, 0.1), scale=(0.9, 1.1)),\n",
        "    transforms.RandomPerspective(distortion_scale=0.2, p=0.5),\n",
        "    transforms.ToTensor(),\n",
        "    # transforms.Lambda(lambda x: 1 - x),\n",
        "    transforms.Normalize((0.1307,), (0.3081,)),\n",
        "])\n",
        "\n",
        "test_transform = transforms.Compose([\n",
        "    transforms.ToTensor(),\n",
        "    # transforms.Lambda(lambda x: 1 - x),\n",
        "    transforms.Normalize((0.1307,), (0.3081,))\n",
        "])"
      ],
      "metadata": {
        "id": "u9PJpMqQZily"
      },
      "id": "u9PJpMqQZily",
      "execution_count": 342,
      "outputs": []
    },
    {
      "cell_type": "code",
      "source": [
        "trainset_aug = datasets.MNIST(global_path, download=True, train=True, transform=train_transform)\n",
        "testset_aug = datasets.MNIST(global_path, download=True, train=False, transform=test_transform)\n",
        "\n",
        "trainloader_aug = torch.utils.data.DataLoader(trainset_aug, batch_size=64, shuffle=True)\n",
        "testloader_aug = torch.utils.data.DataLoader(testset_aug, batch_size=64, shuffle=False)"
      ],
      "metadata": {
        "id": "kkwl_-DtbGHz"
      },
      "id": "kkwl_-DtbGHz",
      "execution_count": 343,
      "outputs": []
    },
    {
      "cell_type": "code",
      "source": [
        "net = Net_Deptwise()\n",
        "criterion = nn.CrossEntropyLoss()\n",
        "optimizer = optim.SGD(net.parameters(), lr=0.003, momentum=0.9)"
      ],
      "metadata": {
        "id": "P-91KEhygr2B"
      },
      "id": "P-91KEhygr2B",
      "execution_count": 352,
      "outputs": []
    },
    {
      "cell_type": "code",
      "source": [
        "all_labels, all_predicted, accuracy = train_model(net, trainloader_aug, testloader_aug, criterion, optimizer, epochs=7)"
      ],
      "metadata": {
        "id": "Duzo6gxiguCR",
        "colab": {
          "base_uri": "https://localhost:8080/"
        },
        "outputId": "8e6070db-20d3-43ba-9ec5-882d03fca498"
      },
      "id": "Duzo6gxiguCR",
      "execution_count": 353,
      "outputs": [
        {
          "output_type": "stream",
          "name": "stderr",
          "text": [
            "\r  0%|          | 0/10 [00:00<?, ?it/s]"
          ]
        },
        {
          "output_type": "stream",
          "name": "stdout",
          "text": [
            "\n",
            "[1,   100] loss: 2.295\n",
            "[1,   200] loss: 2.133\n",
            "[1,   300] loss: 1.545\n",
            "[1,   400] loss: 1.225\n",
            "[1,   500] loss: 1.016\n",
            "[1,   600] loss: 0.840\n",
            "[1,   700] loss: 0.767\n",
            "[1,   800] loss: 0.647\n",
            "[1,   900] loss: 0.604\n"
          ]
        },
        {
          "output_type": "stream",
          "name": "stderr",
          "text": [
            "\r 10%|█         | 1/10 [01:03<09:35, 63.92s/it]"
          ]
        },
        {
          "output_type": "stream",
          "name": "stdout",
          "text": [
            "[1,   100] loss: 0.552\n",
            "[1,   200] loss: 0.529\n",
            "[1,   300] loss: 0.481\n",
            "[1,   400] loss: 0.455\n",
            "[1,   500] loss: 0.464\n",
            "[1,   600] loss: 0.445\n",
            "[1,   700] loss: 0.442\n",
            "[1,   800] loss: 0.413\n",
            "[1,   900] loss: 0.419\n"
          ]
        },
        {
          "output_type": "stream",
          "name": "stderr",
          "text": [
            "\r 20%|██        | 2/10 [01:53<07:22, 55.30s/it]"
          ]
        },
        {
          "output_type": "stream",
          "name": "stdout",
          "text": [
            "[1,   100] loss: 0.376\n",
            "[1,   200] loss: 0.375\n",
            "[1,   300] loss: 0.373\n",
            "[1,   400] loss: 0.367\n",
            "[1,   500] loss: 0.353\n",
            "[1,   600] loss: 0.351\n",
            "[1,   700] loss: 0.318\n",
            "[1,   800] loss: 0.324\n",
            "[1,   900] loss: 0.325\n"
          ]
        },
        {
          "output_type": "stream",
          "name": "stderr",
          "text": [
            "\r 30%|███       | 3/10 [02:41<06:05, 52.22s/it]"
          ]
        },
        {
          "output_type": "stream",
          "name": "stdout",
          "text": [
            "[1,   100] loss: 0.299\n",
            "[1,   200] loss: 0.309\n",
            "[1,   300] loss: 0.309\n",
            "[1,   400] loss: 0.301\n",
            "[1,   500] loss: 0.298\n",
            "[1,   600] loss: 0.296\n",
            "[1,   700] loss: 0.295\n",
            "[1,   800] loss: 0.287\n",
            "[1,   900] loss: 0.301\n"
          ]
        },
        {
          "output_type": "stream",
          "name": "stderr",
          "text": [
            "\r 40%|████      | 4/10 [03:51<05:54, 59.08s/it]"
          ]
        },
        {
          "output_type": "stream",
          "name": "stdout",
          "text": [
            "[1,   100] loss: 0.284\n",
            "[1,   200] loss: 0.280\n",
            "[1,   300] loss: 0.271\n",
            "[1,   400] loss: 0.274\n",
            "[1,   500] loss: 0.253\n",
            "[1,   600] loss: 0.267\n",
            "[1,   700] loss: 0.269\n",
            "[1,   800] loss: 0.256\n",
            "[1,   900] loss: 0.249\n"
          ]
        },
        {
          "output_type": "stream",
          "name": "stderr",
          "text": [
            "\r 50%|█████     | 5/10 [05:04<05:20, 64.15s/it]"
          ]
        },
        {
          "output_type": "stream",
          "name": "stdout",
          "text": [
            "[1,   100] loss: 0.273\n",
            "[1,   200] loss: 0.252\n",
            "[1,   300] loss: 0.251\n",
            "[1,   400] loss: 0.243\n",
            "[1,   500] loss: 0.265\n",
            "[1,   600] loss: 0.240\n",
            "[1,   700] loss: 0.225\n",
            "[1,   800] loss: 0.239\n",
            "[1,   900] loss: 0.237\n"
          ]
        },
        {
          "output_type": "stream",
          "name": "stderr",
          "text": [
            "\r 60%|██████    | 6/10 [06:07<04:15, 63.79s/it]"
          ]
        },
        {
          "output_type": "stream",
          "name": "stdout",
          "text": [
            "[1,   100] loss: 0.233\n",
            "[1,   200] loss: 0.228\n",
            "[1,   300] loss: 0.229\n",
            "[1,   400] loss: 0.238\n",
            "[1,   500] loss: 0.209\n",
            "[1,   600] loss: 0.220\n",
            "[1,   700] loss: 0.224\n",
            "[1,   800] loss: 0.219\n",
            "[1,   900] loss: 0.220\n"
          ]
        },
        {
          "output_type": "stream",
          "name": "stderr",
          "text": [
            "\r 70%|███████   | 7/10 [07:20<03:19, 66.65s/it]"
          ]
        },
        {
          "output_type": "stream",
          "name": "stdout",
          "text": [
            "[1,   100] loss: 0.208\n",
            "[1,   200] loss: 0.200\n",
            "[1,   300] loss: 0.207\n",
            "[1,   400] loss: 0.213\n",
            "[1,   500] loss: 0.200\n",
            "[1,   600] loss: 0.218\n",
            "[1,   700] loss: 0.239\n",
            "[1,   800] loss: 0.208\n",
            "[1,   900] loss: 0.211\n"
          ]
        },
        {
          "output_type": "stream",
          "name": "stderr",
          "text": [
            "\r 80%|████████  | 8/10 [08:14<02:05, 62.65s/it]"
          ]
        },
        {
          "output_type": "stream",
          "name": "stdout",
          "text": [
            "[1,   100] loss: 0.209\n",
            "[1,   200] loss: 0.216\n",
            "[1,   300] loss: 0.203\n",
            "[1,   400] loss: 0.188\n",
            "[1,   500] loss: 0.217\n",
            "[1,   600] loss: 0.202\n",
            "[1,   700] loss: 0.203\n",
            "[1,   800] loss: 0.210\n",
            "[1,   900] loss: 0.200\n"
          ]
        },
        {
          "output_type": "stream",
          "name": "stderr",
          "text": [
            "\r 90%|█████████ | 9/10 [09:03<00:58, 58.38s/it]"
          ]
        },
        {
          "output_type": "stream",
          "name": "stdout",
          "text": [
            "[1,   100] loss: 0.205\n",
            "[1,   200] loss: 0.195\n",
            "[1,   300] loss: 0.193\n",
            "[1,   400] loss: 0.216\n",
            "[1,   500] loss: 0.199\n",
            "[1,   600] loss: 0.206\n",
            "[1,   700] loss: 0.187\n",
            "[1,   800] loss: 0.193\n",
            "[1,   900] loss: 0.195\n"
          ]
        },
        {
          "output_type": "stream",
          "name": "stderr",
          "text": [
            "100%|██████████| 10/10 [10:07<00:00, 60.73s/it]\n"
          ]
        },
        {
          "output_type": "stream",
          "name": "stdout",
          "text": [
            "\n",
            "Training Time (in minutes) = 10.1214350938797\n"
          ]
        }
      ]
    },
    {
      "cell_type": "code",
      "source": [
        "print('Accuracy: %d %%' % (accuracy))\n",
        "\n",
        "print(\"\\nClassification Report:\")\n",
        "print(classification_report(all_labels, all_predicted, digits=4))"
      ],
      "metadata": {
        "id": "9j9RIFgMkn4I",
        "colab": {
          "base_uri": "https://localhost:8080/"
        },
        "outputId": "4ec29068-8728-47a7-a55c-617378c202e0"
      },
      "id": "9j9RIFgMkn4I",
      "execution_count": 354,
      "outputs": [
        {
          "output_type": "stream",
          "name": "stdout",
          "text": [
            "Accuracy: 96 %\n",
            "\n",
            "Classification Report:\n",
            "              precision    recall  f1-score   support\n",
            "\n",
            "           0     0.9421    0.9969    0.9688       980\n",
            "           1     0.9690    0.9921    0.9804      1135\n",
            "           2     0.9753    0.9574    0.9663      1032\n",
            "           3     0.9778    0.9614    0.9695      1010\n",
            "           4     0.9811    0.9532    0.9669       982\n",
            "           5     0.9761    0.9596    0.9678       892\n",
            "           6     0.9840    0.9635    0.9736       958\n",
            "           7     0.9603    0.9650    0.9626      1028\n",
            "           8     0.9568    0.9559    0.9563       974\n",
            "           9     0.9422    0.9524    0.9473      1009\n",
            "\n",
            "    accuracy                         0.9661     10000\n",
            "   macro avg     0.9665    0.9657    0.9660     10000\n",
            "weighted avg     0.9664    0.9661    0.9661     10000\n",
            "\n"
          ]
        }
      ]
    },
    {
      "cell_type": "code",
      "source": [
        "x = torch.randn(64, 1, 28,28)\n",
        "torch.onnx.export(net, x, save_path / \"conv_3.onnx\")"
      ],
      "metadata": {
        "id": "CNqzLWwcie89"
      },
      "id": "CNqzLWwcie89",
      "execution_count": 355,
      "outputs": []
    },
    {
      "cell_type": "markdown",
      "source": [
        "# Visualizing results"
      ],
      "metadata": {
        "id": "SiJETdndZi6z"
      },
      "id": "SiJETdndZi6z"
    },
    {
      "id": "fd4fadae",
      "cell_type": "code",
      "source": [
        "model=cv2.dnn.readNetFromONNX(save_path / \"conv_3.onnx\")"
      ],
      "metadata": {
        "trusted": true,
        "id": "fd4fadae"
      },
      "outputs": [],
      "execution_count": 386
    },
    {
      "id": "8a44e151",
      "cell_type": "code",
      "source": [
        "img = cv2.imread(global_path / \"6.jpg\", 0)\n",
        "plt.imshow(img, cmap=\"gray\")\n",
        "img = 255-img\n",
        "img = cv2.resize(img, (28, 28), interpolation = cv2.INTER_AREA)\n",
        "blob = cv2.dnn.blobFromImage(img, 1./128, (28,28), (127.5,127.5,127.5), True)\n",
        "\n",
        "model.setInput(blob)\n",
        "outs = model.forward()\n",
        "np.argmax(outs)"
      ],
      "metadata": {
        "trusted": true,
        "id": "8a44e151",
        "colab": {
          "base_uri": "https://localhost:8080/",
          "height": 452
        },
        "outputId": "98296a13-9c02-4a8d-b409-fdf761c440be"
      },
      "outputs": [
        {
          "output_type": "execute_result",
          "data": {
            "text/plain": [
              "np.int64(5)"
            ]
          },
          "metadata": {},
          "execution_count": 384
        },
        {
          "output_type": "display_data",
          "data": {
            "text/plain": [
              "<Figure size 640x480 with 1 Axes>"
            ],
            "image/png": "[encoded data removed]"
          },
          "metadata": {}
        }
      ],
      "execution_count": 384
    },
    {
      "id": "399dee6d",
      "cell_type": "code",
      "source": [
        "def visual_all_numbers(model):\n",
        "    image = cv2.imread(global_path / \"0-9.png\")\n",
        "    plt.imshow(image, cmap=\"gray\")\n",
        "\n",
        "    img = cv2.cvtColor(image, cv2.COLOR_BGR2GRAY)\n",
        "    ret, img = cv2.threshold(img,0,255,cv2.THRESH_BINARY_INV+cv2.THRESH_OTSU)\n",
        "    contours, _ = cv2.findContours(img, cv2.RETR_EXTERNAL, cv2.CHAIN_APPROX_NONE)\n",
        "    height, width = img.shape[:2]\n",
        "\n",
        "    for c in contours:\n",
        "        x, y, w, h = cv2.boundingRect(c)\n",
        "        cv2.rectangle(image, (x, y), (x+w-1, y+h-1), (255,255,0),1)\n",
        "        sz2 = int(1.1*max(w,h)/2)\n",
        "        xc = x + int(w/2)\n",
        "        yc = y + int(h/2)\n",
        "        cv2.rectangle(image, (xc-sz2, yc-sz2), (xc+sz2, yc+sz2), (255,0,0),1)\n",
        "        img2 = img[max(0,yc-sz2):min(yc+sz2,height-1),max(0,xc-sz2):min(width-1,xc+sz2)]\n",
        "        img2 = cv2.resize(img2, (28, 28))\n",
        "        blob = cv2.dnn.blobFromImage(img2, 1./127, (28,28), (127,127,127), True)\n",
        "        model.setInput(blob)\n",
        "        outs = model.forward()\n",
        "        res = np.argmax(outs)\n",
        "\n",
        "        cv2.putText(image, str(res), (x-10, y+10),  cv2.FONT_HERSHEY_SIMPLEX,\n",
        "      1.5, (50, 50, 255),1)\n",
        "\n",
        "    plt.imshow(image, cmap=\"gray\")"
      ],
      "metadata": {
        "trusted": true,
        "id": "399dee6d"
      },
      "outputs": [],
      "execution_count": 381
    },
    {
      "id": "bab380b4",
      "cell_type": "code",
      "source": [
        "visual_all_numbers(model)"
      ],
      "metadata": {
        "trusted": true,
        "id": "bab380b4",
        "colab": {
          "base_uri": "https://localhost:8080/",
          "height": 269
        },
        "outputId": "a5826244-e3a3-45f8-abfa-d84cb97da220"
      },
      "outputs": [
        {
          "output_type": "display_data",
          "data": {
            "text/plain": [
              "<Figure size 640x480 with 1 Axes>"
            ],
            "image/png": "[encoded data removed]"
          },
          "metadata": {}
        }
      ],
      "execution_count": 387
    }
  ]
}